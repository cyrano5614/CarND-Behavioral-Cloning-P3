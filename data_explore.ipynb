{
 "cells": [
  {
   "cell_type": "code",
   "execution_count": 2,
   "metadata": {
    "collapsed": false
   },
   "outputs": [],
   "source": [
    "import csv\n",
    "import cv2\n",
    "import numpy as np\n",
    "import os\n",
    "\n",
    "def process_files():\n",
    "    lines = []\n",
    "    with open('./data/driving_log.csv') as csvfile:\n",
    "        reader = csv.reader(csvfile)\n",
    "        next(reader, None)\n",
    "        for line in reader:\n",
    "            lines.append(line)\n",
    "\n",
    "    images = []\n",
    "    measurements = []\n",
    "    for line in lines:\n",
    "        for line in lines:\n",
    "            source_path = line[0]\n",
    "            filename = source_path.split('/')[-1]\n",
    "            current_path = './data/IMG/' + filename\n",
    "            image = cv2.imread(current_path)\n",
    "            images.append(image)\n",
    "            measurement = float(line[3])\n",
    "            measurements.append(measurement)\n",
    "\n",
    "    X_train = np.array(images)\n",
    "    y_train = np.array(measurements)\n",
    "\n",
    "# process_files()"
   ]
  },
  {
   "cell_type": "code",
   "execution_count": 3,
   "metadata": {
    "collapsed": false
   },
   "outputs": [],
   "source": [
    "# np.save('trial_X', X_train)\n",
    "# np.save('trial_y', y_train)"
   ]
  },
  {
   "cell_type": "code",
   "execution_count": 4,
   "metadata": {
    "collapsed": false
   },
   "outputs": [],
   "source": [
    "X_train = np.load('trial_X.npy')\n",
    "y_train = np.load('trial_y.npy')"
   ]
  },
  {
   "cell_type": "code",
   "execution_count": 18,
   "metadata": {
    "collapsed": false
   },
   "outputs": [],
   "source": [
    "from keras.models import Sequential\n",
    "from keras.layers import Flatten, Dense, Activation, Dropout, Lambda, ELU\n",
    "from keras.layers.convolutional import Convolution2D\n",
    "from keras.layers.pooling import MaxPooling2D"
   ]
  },
  {
   "cell_type": "code",
   "execution_count": 19,
   "metadata": {
    "collapsed": true
   },
   "outputs": [],
   "source": [
    "def model_1():\n",
    "    model = Sequential()\n",
    "    model.add(Flatten(input_shape = (160, 320, 3)))\n",
    "    model.add(Dense(1))\n",
    "\n",
    "    model.compile(loss = 'mse', optimizer = 'adam')\n",
    "    model.fit(X_train, y_train, validation_split = 0.2, shuffle = True, nb_epoch = 7)\n",
    "\n",
    "    model.save('model_1.h5')"
   ]
  },
  {
   "cell_type": "code",
   "execution_count": 7,
   "metadata": {
    "collapsed": false
   },
   "outputs": [
    {
     "name": "stdout",
     "output_type": "stream",
     "text": [
      "Train on 6428 samples, validate on 1608 samples\n",
      "Epoch 1/7\n",
      "6428/6428 [==============================] - 6s - loss: 8269279.3457 - val_loss: 4882.6062\n",
      "Epoch 2/7\n",
      "6428/6428 [==============================] - 5s - loss: 3977.1802 - val_loss: 2564.0122\n",
      "Epoch 3/7\n",
      "6428/6428 [==============================] - 5s - loss: 2617.2558 - val_loss: 2155.4269\n",
      "Epoch 4/7\n",
      "6428/6428 [==============================] - 5s - loss: 2182.4386 - val_loss: 1731.8869\n",
      "Epoch 5/7\n",
      "6428/6428 [==============================] - 5s - loss: 1893.8170 - val_loss: 1882.3464\n",
      "Epoch 6/7\n",
      "6428/6428 [==============================] - 5s - loss: 2294.0657 - val_loss: 1521.4941\n",
      "Epoch 7/7\n",
      "6428/6428 [==============================] - 6s - loss: 2298.7225 - val_loss: 4379.6997\n"
     ]
    }
   ],
   "source": [
    "model_1()"
   ]
  },
  {
   "cell_type": "code",
   "execution_count": 20,
   "metadata": {
    "collapsed": true
   },
   "outputs": [],
   "source": [
    "def model_nvidia():\n",
    "    model = Sequential()\n",
    "    model.add(Lambda(lambda x: x/127.5 - 1., input_shape = (160,320,3)))\n",
    "    model.add(Convolution2D(24, 5, 5, subsample=(2, 2), border_mode = \"valid\", init = 'he_normal'))\n",
    "    model.add(ELU())\n",
    "    model.add(Convolution2D(36, 5, 5, subsample=(2, 2), border_mode = \"valid\", init = 'he_normal'))\n",
    "    model.add(ELU())\n",
    "    model.add(Convolution2D(48, 5, 5, subsample=(2, 2), border_mode = \"valid\", init = 'he_normal'))\n",
    "    model.add(ELU())\n",
    "    model.add(Convolution2D(64, 3, 3, subsample=(1, 1), border_mode = \"valid\", init = 'he_normal'))\n",
    "    model.add(ELU())\n",
    "    model.add(Convolution2D(64, 3, 3, subsample=(1, 1), border_mode = \"valid\", init = 'he_normal'))\n",
    "    model.add(ELU())\n",
    "    model.add(Flatten())\n",
    "    model.add(Dense(1164, init='he_normal'))\n",
    "    model.add(ELU())\n",
    "    model.add(Dense(100, init='he_normal'))\n",
    "    model.add(ELU())\n",
    "    model.add(Dense(50, init='he_normal'))\n",
    "    model.add(ELU())\n",
    "    model.add(Dense(10, init='he_normal'))\n",
    "    model.add(ELU())\n",
    "    model.add(Dense(1, init='he_normal'))\n",
    "    \n",
    "    model.compile(loss = 'mse', optimizer = 'adam')\n",
    "    model.fit(X_train, y_train, validation_split = 0.2, shuffle = True, nb_epoch = 7)\n",
    "\n",
    "    model.save('model_nvidia.h5')"
   ]
  },
  {
   "cell_type": "code",
   "execution_count": null,
   "metadata": {
    "collapsed": false
   },
   "outputs": [
    {
     "name": "stdout",
     "output_type": "stream",
     "text": [
      "Train on 6428 samples, validate on 1608 samples\n",
      "Epoch 1/7\n",
      " 544/6428 [=>............................] - ETA: 320s - loss: 33.4235"
     ]
    }
   ],
   "source": [
    "model_nvidia()"
   ]
  },
  {
   "cell_type": "code",
   "execution_count": null,
   "metadata": {
    "collapsed": true
   },
   "outputs": [],
   "source": []
  }
 ],
 "metadata": {
  "anaconda-cloud": {},
  "kernelspec": {
   "display_name": "Python [conda env:carnd-term1]",
   "language": "python",
   "name": "conda-env-carnd-term1-py"
  },
  "language_info": {
   "codemirror_mode": {
    "name": "ipython",
    "version": 3
   },
   "file_extension": ".py",
   "mimetype": "text/x-python",
   "name": "python",
   "nbconvert_exporter": "python",
   "pygments_lexer": "ipython3",
   "version": "3.5.2"
  }
 },
 "nbformat": 4,
 "nbformat_minor": 0
}
