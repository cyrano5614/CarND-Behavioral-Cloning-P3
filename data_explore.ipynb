{
 "cells": [
  {
   "cell_type": "code",
   "execution_count": 1,
   "metadata": {
    "collapsed": true
   },
   "outputs": [],
   "source": [
    "import csv\n",
    "import cv2\n",
    "import numpy as np\n",
    "import os\n",
    "\n",
    "def process_files():\n",
    "    lines = []\n",
    "    with open('./data/driving_log.csv') as csvfile:\n",
    "        reader = csv.reader(csvfile)\n",
    "        next(reader, None)\n",
    "        for line in reader:\n",
    "            lines.append(line)\n",
    "\n",
    "    images = []\n",
    "    measurements = []\n",
    "    for line in lines:\n",
    "        for line in lines:\n",
    "            source_path = line[0]\n",
    "            filename = source_path.split('/')[-1]\n",
    "            current_path = './data/IMG/' + filename\n",
    "            image = cv2.imread(current_path)\n",
    "            images.append(image)\n",
    "            measurement = float(line[3])\n",
    "            measurements.append(measurement)\n",
    "\n",
    "    X_train = np.array(images)\n",
    "    y_train = np.array(measurements)\n",
    "\n",
    "# process_files()"
   ]
  },
  {
   "cell_type": "code",
   "execution_count": 2,
   "metadata": {
    "collapsed": true
   },
   "outputs": [],
   "source": [
    "# np.save('trial_X', X_train)\n",
    "# np.save('trial_y', y_train)"
   ]
  },
  {
   "cell_type": "code",
   "execution_count": 3,
   "metadata": {
    "collapsed": true
   },
   "outputs": [],
   "source": [
    "X_train = np.load('trial_X.npy')\n",
    "y_train = np.load('trial_y.npy')"
   ]
  },
  {
   "cell_type": "code",
   "execution_count": 4,
   "metadata": {},
   "outputs": [
    {
     "name": "stderr",
     "output_type": "stream",
     "text": [
      "Using TensorFlow backend.\n"
     ]
    }
   ],
   "source": [
    "from keras.models import Sequential\n",
    "from keras.layers import Flatten, Dense, Activation, Dropout, Lambda, ELU\n",
    "from keras.layers.convolutional import Convolution2D\n",
    "from keras.layers.pooling import MaxPooling2D"
   ]
  },
  {
   "cell_type": "code",
   "execution_count": 5,
   "metadata": {
    "collapsed": true
   },
   "outputs": [],
   "source": [
    "def model_1():\n",
    "    model = Sequential()\n",
    "    model.add(Flatten(input_shape = (160, 320, 3)))\n",
    "    model.add(Dense(1))\n",
    "\n",
    "    model.compile(loss = 'mse', optimizer = 'adam')\n",
    "    model.fit(X_train, y_train, validation_split = 0.2, shuffle = True, nb_epoch = 7)\n",
    "\n",
    "    model.save('model_1.h5')"
   ]
  },
  {
   "cell_type": "code",
   "execution_count": 6,
   "metadata": {
    "collapsed": true
   },
   "outputs": [],
   "source": [
    "# model_1()"
   ]
  },
  {
   "cell_type": "code",
   "execution_count": 7,
   "metadata": {
    "collapsed": true
   },
   "outputs": [],
   "source": [
    "def model_nvidia():\n",
    "    model = Sequential()\n",
    "    model.add(Lambda(lambda x: x/127.5 - 1., input_shape = (160,320,3)))\n",
    "    model.add(Convolution2D(24, 5, 5, subsample=(2, 2), border_mode = \"valid\", init = 'he_normal'))\n",
    "    model.add(ELU())\n",
    "    model.add(Convolution2D(36, 5, 5, subsample=(2, 2), border_mode = \"valid\", init = 'he_normal'))\n",
    "    model.add(ELU())\n",
    "    model.add(Convolution2D(48, 5, 5, subsample=(2, 2), border_mode = \"valid\", init = 'he_normal'))\n",
    "    model.add(ELU())\n",
    "    model.add(Convolution2D(64, 3, 3, subsample=(1, 1), border_mode = \"valid\", init = 'he_normal'))\n",
    "    model.add(ELU())\n",
    "    model.add(Convolution2D(64, 3, 3, subsample=(1, 1), border_mode = \"valid\", init = 'he_normal'))\n",
    "    model.add(ELU())\n",
    "    model.add(Flatten())\n",
    "    model.add(Dense(1164, init='he_normal'))\n",
    "    model.add(ELU())\n",
    "    model.add(Dense(100, init='he_normal'))\n",
    "    model.add(ELU())\n",
    "    model.add(Dense(50, init='he_normal'))\n",
    "    model.add(ELU())\n",
    "    model.add(Dense(10, init='he_normal'))\n",
    "    model.add(ELU())\n",
    "    model.add(Dense(1, init='he_normal'))\n",
    "    \n",
    "    model.compile(loss = 'mse', optimizer = 'adam')\n",
    "    model.fit(X_train, y_train, validation_split = 0.2, shuffle = True, nb_epoch = 7)\n",
    "\n",
    "    model.save('model_nvidia.h5')"
   ]
  },
  {
   "cell_type": "code",
   "execution_count": 8,
   "metadata": {
    "collapsed": true
   },
   "outputs": [],
   "source": [
    "# model_nvidia()"
   ]
  },
  {
   "cell_type": "code",
   "execution_count": 47,
   "metadata": {},
   "outputs": [
    {
     "name": "stdout",
     "output_type": "stream",
     "text": [
      "IMG/center_2016_12_01_13_30_48_287.jpg\n"
     ]
    }
   ],
   "source": [
    "import matplotlib.pyplot as plt\n",
    "import cv2\n",
    "%matplotlib inline\n",
    "\n",
    "def convert_rgb(img):\n",
    "    return cv2.cvtColor(img, cv2.COLOR_BGR2RGB)\n",
    "\n",
    "def read_image(path):\n",
    "    return cv2.imread(path)\n",
    "\n",
    "img = data['center'][0]\n",
    "print (img)\n",
    "\n",
    "# plt.imshow(convert_rgb(read_image))\n",
    "# plt.show()\n",
    "\n",
    "\n"
   ]
  },
  {
   "cell_type": "code",
   "execution_count": 27,
   "metadata": {},
   "outputs": [],
   "source": [
    "import pandas as pd\n",
    "\n",
    "data = pd.read_csv('./data/driving_log.csv')\n"
   ]
  },
  {
   "cell_type": "code",
   "execution_count": 40,
   "metadata": {},
   "outputs": [
    {
     "data": {
      "text/plain": [
       "Index(['center', 'left', 'right', 'steering', 'throttle', 'brake', 'speed'], dtype='object')"
      ]
     },
     "execution_count": 40,
     "metadata": {},
     "output_type": "execute_result"
    }
   ],
   "source": [
    "data.keys()"
   ]
  },
  {
   "cell_type": "code",
   "execution_count": null,
   "metadata": {
    "collapsed": true
   },
   "outputs": [],
   "source": []
  }
 ],
 "metadata": {
  "anaconda-cloud": {},
  "kernelspec": {
   "display_name": "Python [conda env:carnd-term1]",
   "language": "python",
   "name": "conda-env-carnd-term1-py"
  },
  "language_info": {
   "codemirror_mode": {
    "name": "ipython",
    "version": 3
   },
   "file_extension": ".py",
   "mimetype": "text/x-python",
   "name": "python",
   "nbconvert_exporter": "python",
   "pygments_lexer": "ipython3",
   "version": "3.5.2"
  },
  "widgets": {
   "state": {},
   "version": "1.1.2"
  }
 },
 "nbformat": 4,
 "nbformat_minor": 1
}
